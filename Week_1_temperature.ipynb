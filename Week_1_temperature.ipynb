{
 "cells": [
  {
   "cell_type": "code",
   "execution_count": 63,
   "metadata": {
    "collapsed": false
   },
   "outputs": [],
   "source": [
    "import matplotlib.pyplot as plt"
   ]
  },
  {
   "cell_type": "code",
   "execution_count": 85,
   "metadata": {
    "collapsed": false
   },
   "outputs": [
    {
     "data": {
      "image/png": "[encoded data removed]",
      "text/plain": [
       "<matplotlib.figure.Figure at 0x110a51240>"
      ]
     },
     "metadata": {},
     "output_type": "display_data"
    }
   ],
   "source": [
    "x = range(1,13)\n",
    "y_low = [13.9, 14.2, 15.8, 19.0, 22.3, 24.6, 26.3, 26.1, 24.8, 22.3, 19.3, 15.6]\n",
    "y_high = [19.1, 19.6, 22.1, 25.7, 29.2, 32.0, 34.3, 33.8, 31.1, 27.5, 24.2, 20.7]\n",
    "plt.bar(x, y_high)\n",
    "plt.bar(x, y_low)\n",
    "plt.xlabel(\"Month\")\n",
    "plt.ylabel(\"Temp\")\n",
    "plt.title(\"Taipei\")\n",
    "plt.legend( (\"High\", \"Low\") )\n",
    "plt.show()"
   ]
  },
  {
   "cell_type": "code",
   "execution_count": null,
   "metadata": {
    "collapsed": true
   },
   "outputs": [],
   "source": []
  }
 ],
 "metadata": {
  "kernelspec": {
   "display_name": "Python 3",
   "language": "python",
   "name": "python3"
  },
  "language_info": {
   "codemirror_mode": {
    "name": "ipython",
    "version": 3
   },
   "file_extension": ".py",
   "mimetype": "text/x-python",
   "name": "python",
   "nbconvert_exporter": "python",
   "pygments_lexer": "ipython3",
   "version": "3.6.0"
  }
 },
 "nbformat": 4,
 "nbformat_minor": 2
}

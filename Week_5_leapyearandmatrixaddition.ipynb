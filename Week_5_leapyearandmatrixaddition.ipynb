{
 "cells": [
  {
   "cell_type": "code",
   "execution_count": 2,
   "metadata": {
    "collapsed": false
   },
   "outputs": [
    {
     "name": "stdout",
     "output_type": "stream",
     "text": [
      "輸入一個年份: 3000\n",
      "3000 不是閏年\n"
     ]
    }
   ],
   "source": [
    "year = int(input(\"輸入一個年份: \"))\n",
    "if (year % 4) == 0:\n",
    "    if (year % 100) == 0:\n",
    "        if (year % 400) == 0:\n",
    "            print(\"{0} 是閏年\".format(year))   # 整百年能被400整除的是閏年\n",
    "        else:\n",
    "            print(\"{0} 不是閏年\".format(year))\n",
    "    else:\n",
    "        print(\"{0} 是閏年\".format(year))       # 非整百年能被4整除的為閏年\n",
    "else:\n",
    "    print(\"{0} 不是閏年\".format(year))"
   ]
  },
  {
   "cell_type": "markdown",
   "metadata": {},
   "source": [
    "# 上面是第一題"
   ]
  },
  {
   "cell_type": "markdown",
   "metadata": {},
   "source": [
    "# 下面是第二題"
   ]
  },
  {
   "cell_type": "code",
   "execution_count": 4,
   "metadata": {
    "collapsed": true
   },
   "outputs": [],
   "source": [
    "import numpy as np"
   ]
  },
  {
   "cell_type": "code",
   "execution_count": 5,
   "metadata": {
    "collapsed": false
   },
   "outputs": [
    {
     "data": {
      "text/plain": [
       "array([[2, 4],\n",
       "       [6, 8]])"
      ]
     },
     "execution_count": 5,
     "metadata": {},
     "output_type": "execute_result"
    }
   ],
   "source": [
    "a = np.array([[1,2],[3,4]])\n",
    "b = np.array([[1,2],[3,4]])\n",
    "a+b"
   ]
  },
  {
   "cell_type": "code",
   "execution_count": 9,
   "metadata": {
    "collapsed": false
   },
   "outputs": [
    {
     "name": "stdout",
     "output_type": "stream",
     "text": [
      "Which range do you want?(postive number)100\n"
     ]
    }
   ],
   "source": [
    "K = int(input(\"Which range do you want?(postive number)\"))\n",
    "m1 = np.random.randint(1,K,25).reshape((5,5))\n",
    "m2 = np.random.randint(1,K,25).reshape((5,5))"
   ]
  },
  {
   "cell_type": "code",
   "execution_count": 21,
   "metadata": {
    "collapsed": false
   },
   "outputs": [],
   "source": [
    "def matrix_sum(m1,m2):\n",
    "    print(m1)\n",
    "    print(m2)\n",
    "    return (m1+m2)"
   ]
  },
  {
   "cell_type": "code",
   "execution_count": 22,
   "metadata": {
    "collapsed": false
   },
   "outputs": [
    {
     "name": "stdout",
     "output_type": "stream",
     "text": [
      "[[70  2  4 27 86]\n",
      " [51 11  2 65 29]\n",
      " [51 93 83 71 81]\n",
      " [40 65 50 46 32]\n",
      " [80 41 88 83 18]]\n",
      "[[69 69 77 13 17]\n",
      " [20 41 98 72 59]\n",
      " [80 81 50 70 24]\n",
      " [69 66 45 31 37]\n",
      " [81 63 31 54 53]]\n"
     ]
    },
    {
     "data": {
      "text/plain": [
       "array([[139,  71,  81,  40, 103],\n",
       "       [ 71,  52, 100, 137,  88],\n",
       "       [131, 174, 133, 141, 105],\n",
       "       [109, 131,  95,  77,  69],\n",
       "       [161, 104, 119, 137,  71]])"
      ]
     },
     "execution_count": 22,
     "metadata": {},
     "output_type": "execute_result"
    }
   ],
   "source": [
    "matrix_sum(m1,m2)"
   ]
  },
  {
   "cell_type": "markdown",
   "metadata": {},
   "source": [
    "# 下面是第三題"
   ]
  },
  {
   "cell_type": "code",
   "execution_count": 23,
   "metadata": {
    "collapsed": true
   },
   "outputs": [],
   "source": [
    "import pandas as pd"
   ]
  },
  {
   "cell_type": "code",
   "execution_count": 34,
   "metadata": {
    "collapsed": false
   },
   "outputs": [],
   "source": [
    "weights = {\n",
    "\"土語系\": [2, 2, 0, 1, 0, 0, 0, 1, 1, 0],\n",
    "\"財政系\": [1, 1.5, 0, 1.5, 0, 0, 0, 0, 0, 0],\n",
    "\"金融系\": [1, 1.5, 0, 2, 0, 0, 0, 0, 0, 0],\n",
    "\"國貿系\": [1.5, 2, 0, 2, 0, 0, 0, 0, 0, 0],\n",
    "\"會計系\": [1.5, 2, 0, 2, 0, 0, 0, 1, 1, 0],\n",
    "\"法律系\": [1, 2, 0, 1, 0, 0, 0, 1, 0, 1],\n",
    "\"公行系\": [1, 1.5, 0, 1.25, 0, 0, 0, 0, 0, 1.25],\n",
    "\"應數系\": [1, 1, 1.5, 0, 1, 1, 0, 0, 0, 0],\n",
    "\"教育系\": [1.5, 2, 0, 1.25, 0, 0, 0, 1, 1, 0]\n",
    "}\n",
    "score = [86.5, 79.4, 88.2, 96.5, 86.3, 76.8, 96.1, 78.5, 82.4, 88.6]"
   ]
  },
  {
   "cell_type": "code",
   "execution_count": 39,
   "metadata": {
    "collapsed": false
   },
   "outputs": [
    {
     "data": {
      "text/html": [
       "<div>\n",
       "<table border=\"1\" class=\"dataframe\">\n",
       "  <thead>\n",
       "    <tr style=\"text-align: right;\">\n",
       "      <th></th>\n",
       "      <th>國文</th>\n",
       "      <th>英文</th>\n",
       "      <th>數甲</th>\n",
       "      <th>數乙</th>\n",
       "      <th>物理</th>\n",
       "      <th>化學</th>\n",
       "      <th>生物</th>\n",
       "      <th>歷史</th>\n",
       "      <th>地理</th>\n",
       "      <th>公民</th>\n",
       "      <th>總分</th>\n",
       "    </tr>\n",
       "  </thead>\n",
       "  <tbody>\n",
       "    <tr>\n",
       "      <th>公行系</th>\n",
       "      <td>1.0</td>\n",
       "      <td>1.5</td>\n",
       "      <td>0.0</td>\n",
       "      <td>1.25</td>\n",
       "      <td>0.0</td>\n",
       "      <td>0.0</td>\n",
       "      <td>0.0</td>\n",
       "      <td>0.0</td>\n",
       "      <td>0.0</td>\n",
       "      <td>1.25</td>\n",
       "      <td>436.975</td>\n",
       "    </tr>\n",
       "    <tr>\n",
       "      <th>國貿系</th>\n",
       "      <td>1.5</td>\n",
       "      <td>2.0</td>\n",
       "      <td>0.0</td>\n",
       "      <td>2.00</td>\n",
       "      <td>0.0</td>\n",
       "      <td>0.0</td>\n",
       "      <td>0.0</td>\n",
       "      <td>0.0</td>\n",
       "      <td>0.0</td>\n",
       "      <td>0.00</td>\n",
       "      <td>481.550</td>\n",
       "    </tr>\n",
       "    <tr>\n",
       "      <th>土語系</th>\n",
       "      <td>2.0</td>\n",
       "      <td>2.0</td>\n",
       "      <td>0.0</td>\n",
       "      <td>1.00</td>\n",
       "      <td>0.0</td>\n",
       "      <td>0.0</td>\n",
       "      <td>0.0</td>\n",
       "      <td>1.0</td>\n",
       "      <td>1.0</td>\n",
       "      <td>0.00</td>\n",
       "      <td>589.200</td>\n",
       "    </tr>\n",
       "    <tr>\n",
       "      <th>應數系</th>\n",
       "      <td>1.0</td>\n",
       "      <td>1.0</td>\n",
       "      <td>1.5</td>\n",
       "      <td>0.00</td>\n",
       "      <td>1.0</td>\n",
       "      <td>1.0</td>\n",
       "      <td>0.0</td>\n",
       "      <td>0.0</td>\n",
       "      <td>0.0</td>\n",
       "      <td>0.00</td>\n",
       "      <td>461.300</td>\n",
       "    </tr>\n",
       "    <tr>\n",
       "      <th>教育系</th>\n",
       "      <td>1.5</td>\n",
       "      <td>2.0</td>\n",
       "      <td>0.0</td>\n",
       "      <td>1.25</td>\n",
       "      <td>0.0</td>\n",
       "      <td>0.0</td>\n",
       "      <td>0.0</td>\n",
       "      <td>1.0</td>\n",
       "      <td>1.0</td>\n",
       "      <td>0.00</td>\n",
       "      <td>570.075</td>\n",
       "    </tr>\n",
       "    <tr>\n",
       "      <th>會計系</th>\n",
       "      <td>1.5</td>\n",
       "      <td>2.0</td>\n",
       "      <td>0.0</td>\n",
       "      <td>2.00</td>\n",
       "      <td>0.0</td>\n",
       "      <td>0.0</td>\n",
       "      <td>0.0</td>\n",
       "      <td>1.0</td>\n",
       "      <td>1.0</td>\n",
       "      <td>0.00</td>\n",
       "      <td>642.450</td>\n",
       "    </tr>\n",
       "    <tr>\n",
       "      <th>法律系</th>\n",
       "      <td>1.0</td>\n",
       "      <td>2.0</td>\n",
       "      <td>0.0</td>\n",
       "      <td>1.00</td>\n",
       "      <td>0.0</td>\n",
       "      <td>0.0</td>\n",
       "      <td>0.0</td>\n",
       "      <td>1.0</td>\n",
       "      <td>0.0</td>\n",
       "      <td>1.00</td>\n",
       "      <td>508.900</td>\n",
       "    </tr>\n",
       "    <tr>\n",
       "      <th>財政系</th>\n",
       "      <td>1.0</td>\n",
       "      <td>1.5</td>\n",
       "      <td>0.0</td>\n",
       "      <td>1.50</td>\n",
       "      <td>0.0</td>\n",
       "      <td>0.0</td>\n",
       "      <td>0.0</td>\n",
       "      <td>0.0</td>\n",
       "      <td>0.0</td>\n",
       "      <td>0.00</td>\n",
       "      <td>350.350</td>\n",
       "    </tr>\n",
       "    <tr>\n",
       "      <th>金融系</th>\n",
       "      <td>1.0</td>\n",
       "      <td>1.5</td>\n",
       "      <td>0.0</td>\n",
       "      <td>2.00</td>\n",
       "      <td>0.0</td>\n",
       "      <td>0.0</td>\n",
       "      <td>0.0</td>\n",
       "      <td>0.0</td>\n",
       "      <td>0.0</td>\n",
       "      <td>0.00</td>\n",
       "      <td>398.600</td>\n",
       "    </tr>\n",
       "  </tbody>\n",
       "</table>\n",
       "</div>"
      ],
      "text/plain": [
       "      國文   英文   數甲    數乙   物理   化學   生物   歷史   地理    公民       總分\n",
       "公行系  1.0  1.5  0.0  1.25  0.0  0.0  0.0  0.0  0.0  1.25  436.975\n",
       "國貿系  1.5  2.0  0.0  2.00  0.0  0.0  0.0  0.0  0.0  0.00  481.550\n",
       "土語系  2.0  2.0  0.0  1.00  0.0  0.0  0.0  1.0  1.0  0.00  589.200\n",
       "應數系  1.0  1.0  1.5  0.00  1.0  1.0  0.0  0.0  0.0  0.00  461.300\n",
       "教育系  1.5  2.0  0.0  1.25  0.0  0.0  0.0  1.0  1.0  0.00  570.075\n",
       "會計系  1.5  2.0  0.0  2.00  0.0  0.0  0.0  1.0  1.0  0.00  642.450\n",
       "法律系  1.0  2.0  0.0  1.00  0.0  0.0  0.0  1.0  0.0  1.00  508.900\n",
       "財政系  1.0  1.5  0.0  1.50  0.0  0.0  0.0  0.0  0.0  0.00  350.350\n",
       "金融系  1.0  1.5  0.0  2.00  0.0  0.0  0.0  0.0  0.0  0.00  398.600"
      ]
     },
     "execution_count": 39,
     "metadata": {},
     "output_type": "execute_result"
    }
   ],
   "source": [
    "df = pd.DataFrame(weights, index=[\"國文\", \"英文\", \"數甲\", \"數乙\", \"物理\", \"化學\", \"生物\", \"歷史\", \"地理\", \"公民\"])\n",
    "df1 = df.T\n",
    "df1[\"總分\"] = df1.國文* 86.5 + df1.英文* 79.4 + df1.數甲* 88.2 + df1.數乙* 96.5 + df1.物理* 86.3 + df1.化學* 76.8 + df1.生物* 96.1 + df1.歷史* 78.5 + df1.地理* 82.4 + df1.公民* 88.6 \n",
    "df1"
   ]
  },
  {
   "cell_type": "code",
   "execution_count": null,
   "metadata": {
    "collapsed": true
   },
   "outputs": [],
   "source": []
  }
 ],
 "metadata": {
  "kernelspec": {
   "display_name": "Python 3",
   "language": "python",
   "name": "python3"
  },
  "language_info": {
   "codemirror_mode": {
    "name": "ipython",
    "version": 3
   },
   "file_extension": ".py",
   "mimetype": "text/x-python",
   "name": "python",
   "nbconvert_exporter": "python",
   "pygments_lexer": "ipython3",
   "version": "3.6.0"
  }
 },
 "nbformat": 4,
 "nbformat_minor": 2
}

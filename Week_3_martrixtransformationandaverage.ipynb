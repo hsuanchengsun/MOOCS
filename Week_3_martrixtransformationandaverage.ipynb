{
 "cells": [
  {
   "cell_type": "code",
   "execution_count": 1,
   "metadata": {
    "collapsed": true
   },
   "outputs": [],
   "source": [
    "import numpy as np"
   ]
  },
  {
   "cell_type": "markdown",
   "metadata": {},
   "source": [
    "# 將矩陣m裡大於等於1的數字都變成1，小於1的變成0"
   ]
  },
  {
   "cell_type": "code",
   "execution_count": 13,
   "metadata": {
    "collapsed": true
   },
   "outputs": [],
   "source": [
    "def yenlung(I, J):    \n",
    "    L = np.random.randint(0,10,int(I*J)).reshape((I,J))\n",
    "    print(L)\n",
    "    L[L<1] = 0\n",
    "    L[(L>=1)] = 1\n",
    "    print(L)"
   ]
  },
  {
   "cell_type": "code",
   "execution_count": 15,
   "metadata": {
    "collapsed": false
   },
   "outputs": [
    {
     "name": "stdout",
     "output_type": "stream",
     "text": [
      "[[9 3 8 5 2 0 1 6 0 2]\n",
      " [7 8 1 1 7 4 4 6 1 3]\n",
      " [7 3 6 9 4 4 9 9 9 2]\n",
      " [2 0 6 3 5 1 2 8 1 9]\n",
      " [3 3 8 6 6 0 4 9 2 0]\n",
      " [3 1 3 5 1 1 9 7 3 7]\n",
      " [2 5 3 2 5 2 8 0 6 5]\n",
      " [9 6 9 2 0 8 8 5 0 8]\n",
      " [3 4 8 3 2 0 1 6 1 8]\n",
      " [6 5 8 8 4 2 6 0 4 9]]\n",
      "[[1 1 1 1 1 0 1 1 0 1]\n",
      " [1 1 1 1 1 1 1 1 1 1]\n",
      " [1 1 1 1 1 1 1 1 1 1]\n",
      " [1 0 1 1 1 1 1 1 1 1]\n",
      " [1 1 1 1 1 0 1 1 1 0]\n",
      " [1 1 1 1 1 1 1 1 1 1]\n",
      " [1 1 1 1 1 1 1 0 1 1]\n",
      " [1 1 1 1 0 1 1 1 0 1]\n",
      " [1 1 1 1 1 0 1 1 1 1]\n",
      " [1 1 1 1 1 1 1 0 1 1]]\n"
     ]
    }
   ],
   "source": [
    "yenlung(10,10)"
   ]
  },
  {
   "cell_type": "markdown",
   "metadata": {},
   "source": [
    "# Class grade average"
   ]
  },
  {
   "cell_type": "code",
   "execution_count": 30,
   "metadata": {
    "collapsed": false
   },
   "outputs": [
    {
     "name": "stdout",
     "output_type": "stream",
     "text": [
      "A班平均/B班平均/C班平均\n"
     ]
    },
    {
     "data": {
      "text/plain": [
       "array([ 46.415,  51.81 ,  54.84 ])"
      ]
     },
     "execution_count": 30,
     "metadata": {},
     "output_type": "execute_result"
    }
   ],
   "source": [
    "A = np.random.randint(0,101,int(10*5)).reshape((10,5))\n",
    "B = np.random.randint(0,101,int(10*5)).reshape((10,5))\n",
    "C = np.random.randint(0,101,int(10*5)).reshape((10,5))\n",
    "weights = np.array([[0.25],[0.25],[0.25],[0.15],[0.10]])\n",
    "\n",
    "D = np.dot(A,weights)\n",
    "E = np.dot(B,weights)\n",
    "F = np.dot(C,weights)\n",
    "print(\"A班平均/B班平均/C班平均\")\n",
    "np.array([np.sum(D)/10, np.sum(E)/10, np.sum(F)/10])"
   ]
  },
  {
   "cell_type": "code",
   "execution_count": null,
   "metadata": {
    "collapsed": true
   },
   "outputs": [],
   "source": []
  }
 ],
 "metadata": {
  "kernelspec": {
   "display_name": "Python 3",
   "language": "python",
   "name": "python3"
  },
  "language_info": {
   "codemirror_mode": {
    "name": "ipython",
    "version": 3
   },
   "file_extension": ".py",
   "mimetype": "text/x-python",
   "name": "python",
   "nbconvert_exporter": "python",
   "pygments_lexer": "ipython3",
   "version": "3.6.0"
  }
 },
 "nbformat": 4,
 "nbformat_minor": 2
}
